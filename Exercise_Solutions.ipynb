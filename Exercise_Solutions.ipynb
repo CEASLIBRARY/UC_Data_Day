{
  "nbformat": 4,
  "nbformat_minor": 0,
  "metadata": {
    "colab": {
      "provenance": []
    },
    "kernelspec": {
      "name": "python3",
      "display_name": "Python 3"
    },
    "language_info": {
      "name": "python"
    }
  },
  "cells": [
    {
      "cell_type": "code",
      "source": [
        "!wget https://raw.githubusercontent.com/The-CEAS-Library/Data-Analysis-with-Python-Linear-Regression/main/auto.csv"
      ],
      "metadata": {
        "id": "HQ6D3VKbzv3y"
      },
      "execution_count": null,
      "outputs": []
    },
    {
      "cell_type": "code",
      "source": [
        "import pandas as pd\n",
        "import numpy as np\n",
        "\n",
        "automobile = pd.read_csv('auto.csv')\n",
        "\n",
        "# Replace any missing values with NaNs\n",
        "automobile.replace('?', np.nan, inplace = True)\n",
        "\n",
        "# Drop the NaNs, reset the index and drop the unnecessary columns\n",
        "auto_df = automobile.dropna().reset_index().drop(['index','symboling'],axis=1)\n",
        "\n",
        "# Change the datatype of a column as per the requirement\n",
        "auto_df[['price','horsepower']] = auto_df[['price','horsepower']].astype(dtype = 'float64')"
      ],
      "metadata": {
        "id": "kYrcrTnuz6-j"
      },
      "execution_count": null,
      "outputs": []
    },
    {
      "cell_type": "markdown",
      "source": [
        "##**Exercise 1**\n",
        "\n",
        "* Create a linear regression model that predicts the **'highway mpg'** of an automobile for a given **'city mpg'**.\n",
        "  * Use simple linear regression to train the model\n",
        "  * Evaluate the model by printing the error metrics, R$^2$  value\n",
        "  * Plot the best fit line between the predicted and test values"
      ],
      "metadata": {
        "id": "A4ugD8D25RJM"
      }
    },
    {
      "cell_type": "code",
      "execution_count": null,
      "metadata": {
        "id": "acHtVAx85OeB"
      },
      "outputs": [],
      "source": [
        "import numpy as np\n",
        "import pandas as pd\n",
        "import matplotlib.pyplot as plt\n",
        "from sklearn.linear_model import LinearRegression\n",
        "from sklearn.preprocessing import PolynomialFeatures\n",
        "from sklearn.metrics import mean_squared_error, r2_score\n",
        "from sklearn.model_selection import train_test_split\n",
        "import statsmodels.api as sm\n",
        "\n",
        "\n",
        "X = auto_df['city mpg'].values.reshape(-1,1)\n",
        "y = auto_df['highway mpg'].values.reshape(-1,1)\n",
        "\n",
        "\n",
        "X_train, X_test, y_train, y_test = train_test_split(X, y)\n",
        "\n",
        "# Train the model\n",
        "model = LinearRegression()\n",
        "model.fit(X_train, y_train)\n",
        "\n",
        "# Print intercept and slope:\n",
        "print(\"Intercept: \", model.intercept_)\n",
        "print(\"Slope: \", model.coef_)\n",
        "\n",
        "# Predicting the values\n",
        "y_pred = model.predict(X_test)\n",
        "\n",
        "\n",
        "# Evaluating the model\n",
        "\n",
        "print('Mean Squared Error:', mean_squared_error(y_test, y_pred))\n",
        "print('Root Mean Squared Error:', mean_squared_error(y_test, y_pred, squared = False))\n",
        "print('R2 Value:', r2_score(y_test, y_pred))\n",
        "\n",
        "# Visualizing the training Test Results\n",
        "plt.scatter(X_train, y_train, color= 'red')\n",
        "plt.plot(X_test, y_pred, color = 'blue')\n",
        "plt.title('Predicted Highway MPG vs City MPG ')\n",
        "plt.ylabel('highway mpg')\n",
        "plt.xlabel('city mpg')\n",
        "plt.show()\n",
        "\n"
      ]
    },
    {
      "cell_type": "markdown",
      "source": [
        "##**Exercise 2**\n",
        "\n",
        "* Write a function to establish a relationship between the **'curb weight'** (independent variable) and the **'city mpg'** (dependent variable) of the automobile. This function should take the **'curb weight'**, **'city mpg'** as inputs.\n",
        "  * Use OLS method of statsmodels.\n",
        "  * Evaluate the performance of the model by calculating the R$^2$  value, the root mean squared error between the actual and predicted values from the respective models.\n",
        "  * Plot the best-fit line.\n",
        "\n"
      ],
      "metadata": {
        "id": "bTGW5TGwzMgC"
      }
    },
    {
      "cell_type": "code",
      "source": [
        "import numpy as np\n",
        "import pandas as pd\n",
        "import seaborn as sns\n",
        "import matplotlib.pyplot as plt\n",
        "from sklearn.linear_model import LinearRegression\n",
        "from sklearn.preprocessing import PolynomialFeatures\n",
        "from sklearn.metrics import mean_squared_error, r2_score\n",
        "from sklearn.model_selection import train_test_split\n",
        "import statsmodels.api as sm\n",
        "\n",
        "def mpg_prediction(crb_wt, c_mpg):\n",
        "    # Adding a constant (intercept term) to the independent variable\n",
        "  x3_train, x3_test, y3_train, y3_test = train_test_split(crb_wt, c_mpg)\n",
        "\n",
        "  # Create a constant vector in the training dataset\n",
        "  x3_train_sm = sm.add_constant(x3_train)\n",
        "\n",
        "  # Choose the model and provide inputs to the model - ordinary least squares(OLS)\n",
        "  model_stats = sm.OLS(y3_train, x3_train_sm)\n",
        "\n",
        "  # Fit the model\n",
        "  results = model_stats.fit()\n",
        "\n",
        "  results.fittedvalues\n",
        "  x3_test_sm = sm.add_constant(x3_test)\n",
        "\n",
        "  # Predict the new outcomes\n",
        "  y3_pred = results.predict(x3_test_sm)\n",
        "\n",
        "  # Plotting the best fit line\n",
        "  plt.scatter(x3_train, y3_train)\n",
        "  plt.plot(x3_test, y3_pred, color='r')\n",
        "  plt.xlabel('Curb Weight')\n",
        "  plt.ylabel('City MPG')\n",
        "  plt.title('Curb Weight vs City MPG')\n",
        "  plt.show()\n",
        "\n",
        "  return print(results.summary())\n",
        "\n"
      ],
      "metadata": {
        "id": "r35HCin8zSYj"
      },
      "execution_count": null,
      "outputs": []
    },
    {
      "cell_type": "code",
      "source": [
        "crb_wt = np.array(auto_df['curb weight']).reshape(-1,1)\n",
        "c_mpg = auto_df['city mpg']\n",
        "\n",
        "\n",
        "mpg_prediction(crb_wt, c_mpg)\n"
      ],
      "metadata": {
        "id": "arjSDynY_sR4"
      },
      "execution_count": null,
      "outputs": []
    }
  ]
}