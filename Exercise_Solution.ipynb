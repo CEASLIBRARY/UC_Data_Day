{
  "nbformat": 4,
  "nbformat_minor": 0,
  "metadata": {
    "colab": {
      "provenance": []
    },
    "kernelspec": {
      "name": "python3",
      "display_name": "Python 3"
    },
    "language_info": {
      "name": "python"
    }
  },
  "cells": [
    {
      "cell_type": "markdown",
      "source": [
        "###**Exercise**\n",
        "\n",
        "Write a function that performs simple linear regression using scikit-learn and statsmodels which returns the R$^2$  value, the root mean squared error between the actual and predicted values from the respective models. Compare the results. Use the following data to predict the weight (dependent variable) for a given height (independent variable).\n",
        "\n",
        ">|Weight (lbs) | Height (cm) |\n",
        "|------|-----|\n",
        "|  <center> 110   |<center> 160 |\n",
        "|  <center> 143   |<center> 175 |\n",
        "|  <center> 154    |<center> 185 |\n",
        "|  <center> 187    |<center> 180 |\n",
        "| \t<center> 165    | <center>175 |\n",
        "|<center> 121   | <center>165 |\n",
        "|<center> 198   | <center>190 |\n",
        "|<center> 176   | <center>175 |\n",
        "|<center> 132   | <center>170 |\n",
        "|<center> 220   | <center>195 |"
      ],
      "metadata": {
        "id": "A4ugD8D25RJM"
      }
    },
    {
      "cell_type": "code",
      "execution_count": null,
      "metadata": {
        "id": "acHtVAx85OeB"
      },
      "outputs": [],
      "source": [
        "import numpy as np\n",
        "import matplotlib.pyplot as plt\n",
        "from sklearn.linear_model import LinearRegression   \n",
        "from sklearn.metrics import mean_squared_error  \n",
        "from sklearn.model_selection import train_test_split\n",
        "import statsmodels.api as sm\n",
        "\n",
        "\n",
        "def weight_prediction(ht , wt):\n",
        "  ht = np.array([160,175,185,180,175,165,190,175,170,195]).reshape(-1,1)\n",
        "  wt = np.array([110,143,154,187,165,121,198,176,132,220])\n",
        "\n",
        "  ht_train, ht_test, wt_train, wt_test = train_test_split(ht, wt, test_size = 0.4)\n",
        "\n",
        "  model = LinearRegression().fit(ht_train, wt_train)\n",
        "\n",
        "  r_sq = model.score(ht_test, wt_test)\n",
        "\n",
        "  #print(\"Value of R-squared: \", r_sq)\n",
        "  wt_new = model.predict(ht_test)\n",
        "\n",
        "  #print('Predicted weights for the given heights in lbs: ', wt_new)\n",
        "\n",
        "  #plt.scatter(ht_train,wt_train)\n",
        "  #plt.plot(ht_test,wt_new)\n",
        "  #plt.show()\n",
        "\n",
        "  ht_train_sm = sm.add_constant(ht_train)\n",
        "  ht_test_sm = sm.add_constant(ht_test)\n",
        "\n",
        "  model_stats = sm.OLS(wt_train, ht_train_sm)\n",
        "  results = model_stats.fit()\n",
        "\n",
        "  results.fittedvalues\n",
        "  wt_pred = results.predict(ht_test_sm)\n",
        "  #plt.scatter(ht_train, wt_train)\n",
        "  #plt.plot(wt_test, wt_pred, color='r')\n",
        "  #plt.xlabel('Height')\n",
        "  #plt.ylabel('Weight')\n",
        "  #plt.grid()\n",
        "  #plt.show()\n",
        "\n",
        "  return r_sq, results.summary()\n",
        "  \n"
      ]
    }
  ]
}
